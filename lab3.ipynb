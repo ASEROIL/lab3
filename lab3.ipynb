{
 "cells": [
  {
   "cell_type": "markdown",
   "id": "0",
   "metadata": {},
   "source": [
    "#Сковиков Николай\n<br>",
    "Лабораторная работа 3\n<br>"
   ]
  },
  {
   "cell_type": "markdown",
   "id": "1",
   "metadata": {},
   "source": [
"Зависимости\n<br>",
"import pandas as pd<br>",
"from sklearn.model_selection import train_test_split<br>",
"from sklearn.linear_model import LogisticRegression<br>",
"from sklearn import metrics<br>",
"import matplotlib.pyplot as plt<br>",
"<br>",
"Скачивание датасета\n<br>",
"url = 'https://drive.google.com/u/0/uc?id=1JVxiqVtjKLR1kvg5AsW3EuHyqLH0w0VE&export=download'<br>",
"data = pd.read_csv(url)<br>",
"<br>",
"Изменение датасета (чтобы не было исключений)\n<br>",
"data['Gender'] = data['Gender'].apply(lambda x: 1 if x == 'Male' else 0)<br>",
"data['Dataset'] = data['Dataset'].apply(lambda x: 1 if x == 1 else 0)<br>",
"columns = ['Age', 'Gender', 'Total_Bilirubin', 'Direct_Bilirubin', 'Alkaline_Phosphotase', 'Alamine_Aminotransferase',<br>",
"'Aspartate_Aminotransferase', 'Total_Protiens', 'Albumin', 'Albumin_and_Globulin_Ratio']<br>",
"data = data.dropna(axis=0, subset=columns)<br>",
"<br>",
"Обучение\n<br>",
"X = data[columns]<br>",
"y = data['Dataset']<br>",
"X_train, X_test, y_train, y_test = train_test_split(X, y, test_size=0.3, random_state=0)<br>",
"log_regression = LogisticRegression(solver='lbfgs', max_iter=1000)<br>",
"log_regression.fit(X_train, y_train)<br>",
"y_pred = log_regression.predict(X_test)<br>",
"<br>",
"Проверка модели\n<br>",
"cnf_matrix = metrics.confusion_matrix(y_test, y_pred)<br>",
"print('Accuracy:', metrics.accuracy_score(y_test, y_pred))<br>",
"<br>",
"Построение графика\n<br>",
"y_pred_proba = log_regression.predict_proba(X_test)[::, 1]<br>",
"fpr, tpr, _ = metrics.roc_curve(y_test, y_pred_proba)<br>",
"auc = metrics.roc_auc_score(y_test, y_pred_proba)<br>",
"plt.plot(fpr, tpr, label='AUC=' + str(auc))<br>",
"plt.legend(loc=4)<br>",
"plt.show()"
   ]
  },
    {
   "cell_type": "markdown",
   "id": "6",
   "metadata": {},
   "source": [
    "График:"
   ]
  },
  {
   "cell_type": "markdown",
   "id": "5",
   "metadata": {
    "tags": []
   },
   "source": [
    "![image1](./1.png)\n"
   ]
  },
  {
   "cell_type": "markdown",
   "id": "2",
   "metadata": {},
   "source": [
"Зависимости\n<br>",
"import pandas as pd<br>",
"from sklearn.model_selection import train_test_split<br>",
"from sklearn import svm<br>",
"from sklearn import metrics<br>",
"import matplotlib.pyplot as plt<br>",
"<br>",
"Скачивание датасета\n<br>",
"url = 'https://drive.google.com/u/0/uc?id=1JVxiqVtjKLR1kvg5AsW3EuHyqLH0w0VE&export=download'<br>",
"data = pd.read_csv(url)<br>",
"<br>",
"Изменение датасета (чтобы не было исключений)\n<br>",
"data['Gender'] = data['Gender'].apply(lambda x: 1 if x == 'Male' else 0)<br>",
"data['Dataset'] = data['Dataset'].apply(lambda x: 1 if x == 1 else 0)<br>",
"columns = ['Age', 'Gender', 'Total_Bilirubin', 'Direct_Bilirubin', 'Alkaline_Phosphotase', 'Alamine_Aminotransferase',<br>",
"'Aspartate_Aminotransferase', 'Total_Protiens', 'Albumin', 'Albumin_and_Globulin_Ratio']<br>",
"data = data.dropna(axis=0, subset=columns)<br>",
"<br>",
"Обучение\n<br>",
"X = data[columns]<br>",
"y = data['Dataset']<br>",
"X_train, X_test, y_train, y_test = train_test_split(X, y, test_size=0.3, random_state=0)<br>",
"model = svm.SVC(kernel='poly', degree=2, probability=True)<br>",
"model.fit(X_train, y_train)<br>",
"y_pred = model.predict(X_test)<br>",
"<br>",
"Проверка модели\n<br>",
"cnf_matrix = metrics.confusion_matrix(y_test, y_pred)<br>",
"print('Accuracy:', metrics.accuracy_score(y_test, y_pred))<br>",
"<br>",
"Построение графика\n<br>",
"y_pred_proba = model.predict_proba(X_test)[::, 1]<br>",
"fpr, tpr, _ = metrics.roc_curve(y_test, y_pred_proba)<br>",
"auc = metrics.roc_auc_score(y_test, y_pred_proba)<br>",
"plt.plot(fpr, tpr, label='AUC=' + str(auc))<br>",
"plt.legend(loc=4)<br>",
"plt.show()"
   ]
  },
  {
   "cell_type": "markdown",
   "id": "3",
   "metadata": {},
   "source": [
    "График:"
   ]
  },
  {
   "cell_type": "markdown",
   "id": "4",
   "metadata": {
    "tags": []
   },
   "source": [
    "![image1](./2.png)\n"
   ]
  }
 ],
 "metadata": {
  "kernelspec": {
   "display_name": "Python 3 (ipykernel)",
   "language": "python",
   "name": "python3"
  },
  "language_info": {
   "codemirror_mode": {
    "name": "ipython",
    "version": 3
   },
   "file_extension": ".py",
   "mimetype": "text/x-python",
   "name": "python",
   "nbconvert_exporter": "python",
   "pygments_lexer": "ipython3",
   "version": "3.9.7"
  }
 },
 "nbformat": 4,
 "nbformat_minor": 5
}
